{
  "nbformat": 4,
  "nbformat_minor": 0,
  "metadata": {
    "colab": {
      "name": "Assignment-0-solved",
      "provenance": [],
      "collapsed_sections": [],
      "toc_visible": true
    },
    "kernelspec": {
      "name": "python3",
      "display_name": "Python 3"
    }
  },
  "cells": [
    {
      "cell_type": "markdown",
      "metadata": {
        "id": "QHVFxwPqNLyK",
        "colab_type": "text"
      },
      "source": [
        "**Task 1**"
      ]
    },
    {
      "cell_type": "markdown",
      "metadata": {
        "id": "nANVULf9Nb_1",
        "colab_type": "text"
      },
      "source": [
        "# Code for Task-1 "
      ]
    },
    {
      "cell_type": "markdown",
      "metadata": {
        "id": "OBUNTrLeOD11",
        "colab_type": "text"
      },
      "source": [
        "NOTE: I've included the code as given with the **changes to** the **hidden_size** and **num_epochs**"
      ]
    },
    {
      "cell_type": "code",
      "metadata": {
        "id": "xuTqU_h1vXhG",
        "colab_type": "code",
        "colab": {}
      },
      "source": [
        "import numpy as np\n",
        "import matplotlib.pyplot as plt\n",
        "\n",
        "class NeuralNetwork():\n",
        "  def __init__(self, input_size, hidden_size, output_size):\n",
        "    super(NeuralNetwork, self).__init__()\n",
        "    self.weights_input_to_hidden = np.random.random((input_size, hidden_size))\n",
        "    self.weights_hidden_to_output = np.random.random((hidden_size, output_size))\n",
        "\n",
        "  # For Task 2, change the sigmoid function to tan-h and reLU here\n",
        "  ## TASK 2 CODE STARTS HERE\n",
        "  def sigmoid(self, x, deriv = False):\n",
        "    if deriv:\n",
        "      return x * (1 - x)\n",
        "    return 1 / (1 + np.exp(-x))\n",
        "  ## TASK 2 CODE ENDS HERE\n",
        "\n",
        "  def train(self, train_x, train_y, num_epochs):\n",
        "    loss_dict = {}\n",
        "    for epoch in range(num_epochs):\n",
        "        # Forward prop\n",
        "        self.l0 = train_x\n",
        "        self.l1 = self.sigmoid(np.dot(self.l0, self.weights_input_to_hidden))\n",
        "        l2 = self.sigmoid(np.dot(self.l1, self.weights_hidden_to_output))\n",
        "\n",
        "        # Backprop\n",
        "        # Finding final and hidden layer losses\n",
        "        loss = train_y - l2\n",
        "        if epoch % 10 == 0:\n",
        "          print('Epoch {}/{} \\tLoss:{}'.format(epoch+1, num_epochs, np.mean(np.abs(loss))))\n",
        "          #plt.plot(epoch+1,np.mean(loss))\n",
        "        \n",
        "        l2_delta = loss * self.sigmoid(l2, deriv = True)\n",
        "        l1_error = l2_delta.dot(self.weights_hidden_to_output.T)\n",
        "        l1_delta = l1_error * self.sigmoid(self.l1, deriv = True)\n",
        "        \n",
        "        # Optimizing weights\n",
        "        self.weights_hidden_to_output += self.l1.T.dot(l2_delta)\n",
        "        self.weights_input_to_hidden += self.l0.T.dot(l1_delta)\n",
        "\n",
        "        # Store loss in a dictionary\n",
        "        loss_dict[epoch] = np.abs(np.mean(loss))\n",
        "    return loss_dict\n",
        "        \n",
        "  def test(self, test_x):\n",
        "    self.l0 = test_x\n",
        "    self.l1 = self.sigmoid(np.dot(self.l0, self.weights_input_to_hidden))\n",
        "    output = self.sigmoid(np.dot(self.l1, self.weights_hidden_to_output))\n",
        "    if output < 0.5:\n",
        "      return 0\n",
        "    return output"
      ],
      "execution_count": 0,
      "outputs": []
    },
    {
      "cell_type": "code",
      "metadata": {
        "id": "X1s_o22yvnNS",
        "colab_type": "code",
        "colab": {}
      },
      "source": [
        "# Training Set\n",
        "arr_x = np.array([[0,0,0],\n",
        "                [1,1,1],\n",
        "                [1,0,0],\n",
        "                [0,0,1],\n",
        "                [1,1,0],\n",
        "                [1,0,1]])\n",
        "arr_y = np.array([[0],\n",
        "                 [1],\n",
        "                 [1],\n",
        "                 [1],\n",
        "                 [0],\n",
        "                 [0]])"
      ],
      "execution_count": 0,
      "outputs": []
    },
    {
      "cell_type": "code",
      "metadata": {
        "id": "GG1ljLQ0vrkj",
        "colab_type": "code",
        "colab": {
          "base_uri": "https://localhost:8080/",
          "height": 299
        },
        "outputId": "2b4541c6-b977-44ca-b5f7-f205a16250ae"
      },
      "source": [
        "nn = NeuralNetwork(input_size=3, hidden_size = 1, output_size = 1)\n",
        "loss = nn.train(train_x = arr_x, train_y = arr_y, num_epochs = 50)\n",
        "plt.plot(list(loss.keys()),list(loss.values()))"
      ],
      "execution_count": 23,
      "outputs": [
        {
          "output_type": "stream",
          "text": [
            "Epoch 1/50 \tLoss:0.49882085850543983\n"
          ],
          "name": "stdout"
        },
        {
          "output_type": "execute_result",
          "data": {
            "text/plain": [
              "[<matplotlib.lines.Line2D at 0x7fe756b0c710>]"
            ]
          },
          "metadata": {
            "tags": []
          },
          "execution_count": 23
        },
        {
          "output_type": "display_data",
          "data": {
            "image/png": "[encoded data removed]",
            "text/plain": [
              "<Figure size 432x288 with 1 Axes>"
            ]
          },
          "metadata": {
            "tags": []
          }
        }
      ]
    },
    {
      "cell_type": "markdown",
      "metadata": {
        "id": "V5VGWGr_O6z7",
        "colab_type": "text"
      },
      "source": [
        "# Code for Task-2"
      ]
    },
    {
      "cell_type": "markdown",
      "metadata": {
        "id": "r2xqoAZxPb-P",
        "colab_type": "text"
      },
      "source": [
        "TAN-H"
      ]
    },
    {
      "cell_type": "code",
      "metadata": {
        "id": "6yY6jdnYPGDf",
        "colab_type": "code",
        "colab": {}
      },
      "source": [
        "class NeuralNetwork():\n",
        "  def __init__(self, input_size, hidden_size, output_size):\n",
        "    super(NeuralNetwork, self).__init__()\n",
        "    self.weights_input_to_hidden = np.random.random((input_size, hidden_size))\n",
        "    self.weights_hidden_to_output = np.random.random((hidden_size, output_size))\n",
        "\n",
        "  # For Task 2, change the tanh function to tan-h and reLU here\n",
        "  ## TASK 2 CODE STARTS HERE\n",
        "  # TanH Function\n",
        "  def tanh(self, x, deriv = False):\n",
        "    f = np.tanh(x)\n",
        "    if deriv:\n",
        "      return 1 - f**2\n",
        "    return f\n",
        "  ## TASK 2 CODE ENDS HERE\n",
        "\n",
        "  def train(self, train_x, train_y, num_epochs):\n",
        "    loss_dict = {}\n",
        "    for epoch in range(num_epochs):\n",
        "        # Forward prop\n",
        "        self.l0 = train_x\n",
        "        self.l1 = self.tanh(np.dot(self.l0, self.weights_input_to_hidden))\n",
        "        l2 = self.tanh(np.dot(self.l1, self.weights_hidden_to_output))\n",
        "\n",
        "        # Backprop\n",
        "        # Finding final and hidden layer losses\n",
        "        loss = train_y - l2\n",
        "        if epoch % 1000 == 0:\n",
        "          print('Epoch {}/{} \\tLoss:{}'.format(epoch+1, num_epochs, np.mean(np.abs(loss))))\n",
        "          #plt.plot(epoch+1,np.mean(loss))\n",
        "        \n",
        "        l2_delta = loss * self.tanh(l2, deriv = True)\n",
        "        l1_error = l2_delta.dot(self.weights_hidden_to_output.T)\n",
        "        l1_delta = l1_error * self.tanh(self.l1, deriv = True)\n",
        "        \n",
        "        # Optimizing weights\n",
        "        self.weights_hidden_to_output += self.l1.T.dot(l2_delta)\n",
        "        self.weights_input_to_hidden += self.l0.T.dot(l1_delta)\n",
        "\n",
        "        # Store loss in a dictionary\n",
        "        loss_dict[epoch] = np.abs(np.mean(loss))\n",
        "    return loss_dict\n",
        "        \n",
        "  def test(self, test_x):\n",
        "    self.l0 = test_x\n",
        "    self.l1 = self.tanh(np.dot(self.l0, self.weights_input_to_hidden))\n",
        "    output = self.tanh(np.dot(self.l1, self.weights_hidden_to_output))\n",
        "    if output < 0.5:\n",
        "      return 0\n",
        "    return output"
      ],
      "execution_count": 0,
      "outputs": []
    },
    {
      "cell_type": "code",
      "metadata": {
        "colab_type": "code",
        "outputId": "1d6d6454-9069-4a2b-c30c-32542b5b0c85",
        "id": "ZXfwB3itPU8Z",
        "colab": {
          "base_uri": "https://localhost:8080/",
          "height": 368
        }
      },
      "source": [
        "nn = NeuralNetwork(input_size=3, hidden_size = 5, output_size = 1)\n",
        "loss = nn.train(train_x = arr_x, train_y = arr_y, num_epochs = 5000)\n",
        "plt.plot(list(loss.keys()),list(loss.values()))"
      ],
      "execution_count": 43,
      "outputs": [
        {
          "output_type": "stream",
          "text": [
            "Epoch 1/5000 \tLoss:1.948601348467923\n",
            "Epoch 1001/5000 \tLoss:0.5\n",
            "Epoch 2001/5000 \tLoss:0.5\n",
            "Epoch 3001/5000 \tLoss:0.5\n",
            "Epoch 4001/5000 \tLoss:0.5\n"
          ],
          "name": "stdout"
        },
        {
          "output_type": "execute_result",
          "data": {
            "text/plain": [
              "[<matplotlib.lines.Line2D at 0x7fe7565de860>]"
            ]
          },
          "metadata": {
            "tags": []
          },
          "execution_count": 43
        },
        {
          "output_type": "display_data",
          "data": {
            "image/png": "[encoded data removed]",
            "text/plain": [
              "<Figure size 432x288 with 1 Axes>"
            ]
          },
          "metadata": {
            "tags": []
          }
        }
      ]
    },
    {
      "cell_type": "markdown",
      "metadata": {
        "id": "VnJMzMaLPhAS",
        "colab_type": "text"
      },
      "source": [
        "RELU"
      ]
    },
    {
      "cell_type": "code",
      "metadata": {
        "id": "DCzmjlZ7PYGC",
        "colab_type": "code",
        "colab": {}
      },
      "source": [
        "class NeuralNetwork():\n",
        "  def __init__(self, input_size, hidden_size, output_size):\n",
        "    super(NeuralNetwork, self).__init__()\n",
        "    self.weights_input_to_hidden = np.random.random((input_size, hidden_size))\n",
        "    self.weights_hidden_to_output = np.random.random((hidden_size, output_size))\n",
        "\n",
        "  ## TASK 2 CODE STARTS HERE\n",
        "  # Rectified Linear Unit (ReLU) Function\n",
        "  def relu(self, x, deriv = False):\n",
        "    if deriv:\n",
        "      if x.any() > 0:\n",
        "        return 1\n",
        "      else:\n",
        "        return 0\n",
        "    else:\n",
        "      return x * (x > 0)\n",
        "  ## TASK 2 CODE ENDS HERE\n",
        "\n",
        "  def train(self, train_x, train_y, num_epochs):\n",
        "    loss_dict = {}\n",
        "    for epoch in range(num_epochs):\n",
        "        # Forward prop\n",
        "        self.l0 = train_x\n",
        "        self.l1 = self.relu(np.dot(self.l0, self.weights_input_to_hidden))\n",
        "        l2 = self.relu(np.dot(self.l1, self.weights_hidden_to_output))\n",
        "\n",
        "        # Backprop\n",
        "        # Finding final and hidden layer losses\n",
        "        loss = train_y - l2\n",
        "        if epoch % 1000 == 0:\n",
        "          print('Epoch {}/{} \\tLoss:{}'.format(epoch+1, num_epochs, np.mean(np.abs(loss))))\n",
        "          #plt.plot(epoch+1,np.mean(loss))\n",
        "        \n",
        "        l2_delta = loss * self.relu(l2, deriv = True)\n",
        "        l1_error = l2_delta.dot(self.weights_hidden_to_output.T)\n",
        "        l1_delta = l1_error * self.relu(self.l1, deriv = True)\n",
        "        \n",
        "        # Optimizing weights\n",
        "        self.weights_hidden_to_output += self.l1.T.dot(l2_delta)\n",
        "        self.weights_input_to_hidden += self.l0.T.dot(l1_delta)\n",
        "\n",
        "        # Store loss in a dictionary\n",
        "        loss_dict[epoch] = np.abs(np.mean(loss))\n",
        "    return loss_dict\n",
        "        \n",
        "  def test(self, test_x):\n",
        "    self.l0 = test_x\n",
        "    self.l1 = self.relu(np.dot(self.l0, self.weights_input_to_hidden))\n",
        "    output = self.relu(np.dot(self.l1, self.weights_hidden_to_output))\n",
        "    if output < 0.5:\n",
        "      return 0\n",
        "    return output"
      ],
      "execution_count": 0,
      "outputs": []
    },
    {
      "cell_type": "code",
      "metadata": {
        "id": "HB9Ov-PmPpv6",
        "colab_type": "code",
        "colab": {
          "base_uri": "https://localhost:8080/",
          "height": 367
        },
        "outputId": "89e81d9a-0e2d-499d-facb-8eef0c2452d6"
      },
      "source": [
        "nn = NeuralNetwork(input_size=3, hidden_size = 5, output_size = 1)\n",
        "loss = nn.train(train_x = arr_x, train_y = arr_y, num_epochs = 5000)\n",
        "plt.plot(list(loss.keys()),list(loss.values()))"
      ],
      "execution_count": 42,
      "outputs": [
        {
          "output_type": "stream",
          "text": [
            "Epoch 1/5000 \tLoss:0.7543684851153318\n",
            "Epoch 1001/5000 \tLoss:0.5\n",
            "Epoch 2001/5000 \tLoss:0.5\n",
            "Epoch 3001/5000 \tLoss:0.5\n",
            "Epoch 4001/5000 \tLoss:0.5\n"
          ],
          "name": "stdout"
        },
        {
          "output_type": "execute_result",
          "data": {
            "text/plain": [
              "[<matplotlib.lines.Line2D at 0x7fe756610198>]"
            ]
          },
          "metadata": {
            "tags": []
          },
          "execution_count": 42
        },
        {
          "output_type": "display_data",
          "data": {
            "image/png": "[encoded data removed]",
            "text/plain": [
              "<Figure size 432x288 with 1 Axes>"
            ]
          },
          "metadata": {
            "tags": []
          }
        }
      ]
    },
    {
      "cell_type": "markdown",
      "metadata": {
        "id": "VQ3lE6apQMqH",
        "colab_type": "text"
      },
      "source": [
        "# Code for Task-3"
      ]
    },
    {
      "cell_type": "markdown",
      "metadata": {
        "id": "2O_NAHwxSgrB",
        "colab_type": "text"
      },
      "source": [
        "F = !((A.B)+C) + D"
      ]
    },
    {
      "cell_type": "code",
      "metadata": {
        "id": "ayvXOIYIPu3a",
        "colab_type": "code",
        "colab": {}
      },
      "source": [
        "# Training Set for Task 3\n",
        "## TASK 3 CODE STARTS HERE\n",
        "#!((A.B)+C) + D\n",
        "arr_x = np.array([[0,0,0,0],\n",
        "                [1,1,1,0],\n",
        "                [1,0,0,1],\n",
        "                [0,0,1,0],\n",
        "                [1,1,0,1],\n",
        "                [1,0,1,0],\n",
        "                [1,1,0,0],\n",
        "                [0,0,0,1],\n",
        "                [1,0,0,0]])\n",
        "arr_y = np.array([[1],\n",
        "                 [0],\n",
        "                 [1],\n",
        "                 [0],\n",
        "                 [1],\n",
        "                 [0],\n",
        "                 [0],\n",
        "                 [1],\n",
        "                 [1]])"
      ],
      "execution_count": 0,
      "outputs": []
    },
    {
      "cell_type": "code",
      "metadata": {
        "id": "An1pjbL8S5Qa",
        "colab_type": "code",
        "colab": {
          "base_uri": "https://localhost:8080/",
          "height": 371
        },
        "outputId": "a5d9074d-f85d-409e-f1d7-98a58fc1c236"
      },
      "source": [
        "#changing input size to 4\n",
        "nn_task3 = NeuralNetwork(input_size=4, hidden_size = 2, output_size = 1)\n",
        "loss = nn_task3.train(train_x = arr_x, train_y = arr_y, num_epochs = 5000)\n",
        "plt.plot(list(loss.keys()),list(loss.values()))\n",
        "nn_task3.test(np.array([0,1,0,1]))"
      ],
      "execution_count": 51,
      "outputs": [
        {
          "output_type": "stream",
          "text": [
            "Epoch 1/5000 \tLoss:0.49553458378818926\n",
            "Epoch 1001/5000 \tLoss:0.01936312164443308\n",
            "Epoch 2001/5000 \tLoss:0.01326143574428019\n",
            "Epoch 3001/5000 \tLoss:0.010681431198586824\n",
            "Epoch 4001/5000 \tLoss:0.009175874855714096\n"
          ],
          "name": "stdout"
        },
        {
          "output_type": "execute_result",
          "data": {
            "text/plain": [
              "array([0.98030148])"
            ]
          },
          "metadata": {
            "tags": []
          },
          "execution_count": 51
        },
        {
          "output_type": "display_data",
          "data": {
            "image/png": "[encoded data removed]",
            "text/plain": [
              "<Figure size 432x288 with 1 Axes>"
            ]
          },
          "metadata": {
            "tags": []
          }
        }
      ]
    },
    {
      "cell_type": "markdown",
      "metadata": {
        "id": "wrd5JlkaTnzM",
        "colab_type": "text"
      },
      "source": [
        "F = !(A.B) xor !(C.D)"
      ]
    },
    {
      "cell_type": "code",
      "metadata": {
        "id": "WN08bPN3S8Dc",
        "colab_type": "code",
        "colab": {}
      },
      "source": [
        "# Training Set for Task 3\n",
        "## TASK 3 CODE STARTS HERE\n",
        "#F = !(A.B) xor !(C.D)\n",
        "arr_x = np.array([[0,0,0,0],\n",
        "                [1,1,1,0],\n",
        "                [1,0,0,1],\n",
        "                [0,0,1,0],\n",
        "                [1,1,0,1],\n",
        "                [1,0,1,0],\n",
        "                [1,1,0,0],\n",
        "                [0,0,0,1],\n",
        "                [1,0,0,0]])\n",
        "arr_y = np.array([[0],\n",
        "                 [1],\n",
        "                 [0],\n",
        "                 [0],\n",
        "                 [1],\n",
        "                 [0],\n",
        "                 [1],\n",
        "                 [0],\n",
        "                 [0]])"
      ],
      "execution_count": 0,
      "outputs": []
    },
    {
      "cell_type": "code",
      "metadata": {
        "id": "uJtBnK_SUnVd",
        "colab_type": "code",
        "colab": {
          "base_uri": "https://localhost:8080/",
          "height": 367
        },
        "outputId": "628a546e-a0c7-4988-a871-6dbb4f67b179"
      },
      "source": [
        "#changing input size to 4\n",
        "nn_task3 = NeuralNetwork(input_size=4, hidden_size = 2, output_size = 1)\n",
        "loss = nn_task3.train(train_x = arr_x, train_y = arr_y, num_epochs = 5000)\n",
        "plt.plot(list(loss.keys()),list(loss.values()))\n",
        "nn_task3.test(np.array([0,1,0,1]))"
      ],
      "execution_count": 53,
      "outputs": [
        {
          "output_type": "stream",
          "text": [
            "Epoch 1/5000 \tLoss:0.5610370227580124\n",
            "Epoch 1001/5000 \tLoss:0.1781863513821118\n",
            "Epoch 2001/5000 \tLoss:0.17444071186940546\n",
            "Epoch 3001/5000 \tLoss:0.1728818208009866\n",
            "Epoch 4001/5000 \tLoss:0.17197934978998453\n"
          ],
          "name": "stdout"
        },
        {
          "output_type": "execute_result",
          "data": {
            "text/plain": [
              "0"
            ]
          },
          "metadata": {
            "tags": []
          },
          "execution_count": 53
        },
        {
          "output_type": "display_data",
          "data": {
            "image/png": "[encoded data removed]",
            "text/plain": [
              "<Figure size 432x288 with 1 Axes>"
            ]
          },
          "metadata": {
            "tags": []
          }
        }
      ]
    }
  ]
}